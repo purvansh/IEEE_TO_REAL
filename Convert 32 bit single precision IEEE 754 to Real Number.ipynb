{
 "cells": [
  {
   "cell_type": "markdown",
   "metadata": {},
   "source": [
    "### _Program Name: floating point representation to its real value._"
   ]
  },
  {
   "cell_type": "markdown",
   "metadata": {},
   "source": [
    "#### Program Code"
   ]
  },
  {
   "cell_type": "code",
   "execution_count": 1,
   "metadata": {},
   "outputs": [],
   "source": [
    "def IEEE_to_real():\n",
    "    Data=input(\"Input: floating point number =\")\n",
    "    sign=(Data.split(' | '))[0]\n",
    "    expo=(Data.split(' | '))[1]\n",
    "    data=(Data.split(' | '))[2]\n",
    "    expo=int(expo,2)-127\n",
    "    count=-1\n",
    "    sum=0\n",
    "    for a in data:\n",
    "        sum=sum+int(a)* 2**count\n",
    "        count=count-1\n",
    "\n",
    "    print('Output',(-1)**int(sign)*(1+sum)*2**expo)"
   ]
  },
  {
   "cell_type": "code",
   "execution_count": 2,
   "metadata": {},
   "outputs": [
    {
     "name": "stdout",
     "output_type": "stream",
     "text": [
      "Input: floating point number =0 | 10000011 | 000011\n",
      "Output 16.75\n"
     ]
    }
   ],
   "source": [
    "IEEE_to_real()"
   ]
  }
 ],
 "metadata": {
  "kernelspec": {
   "display_name": "Python 3",
   "language": "python",
   "name": "python3"
  },
  "language_info": {
   "codemirror_mode": {
    "name": "ipython",
    "version": 3
   },
   "file_extension": ".py",
   "mimetype": "text/x-python",
   "name": "python",
   "nbconvert_exporter": "python",
   "pygments_lexer": "ipython3",
   "version": "3.7.6"
  }
 },
 "nbformat": 4,
 "nbformat_minor": 4
}
